{
  "nbformat": 4,
  "nbformat_minor": 0,
  "metadata": {
    "colab": {
      "name": "Predictions.ipynb",
      "provenance": [],
      "collapsed_sections": [],
      "authorship_tag": "ABX9TyPag0bsnS8x/T8kJPQejsz0",
      "include_colab_link": true
    },
    "kernelspec": {
      "name": "python3",
      "display_name": "Python 3"
    },
    "language_info": {
      "name": "python"
    }
  },
  "cells": [
    {
      "cell_type": "markdown",
      "metadata": {
        "id": "view-in-github",
        "colab_type": "text"
      },
      "source": [
        "<a href=\"https://colab.research.google.com/github/rostro36/Vernehmlassungen/blob/master/Predictions.ipynb\" target=\"_parent\"><img src=\"https://colab.research.google.com/assets/colab-badge.svg\" alt=\"Open In Colab\"/></a>"
      ]
    },
    {
      "cell_type": "markdown",
      "metadata": {
        "id": "HVQqz97fZIt6"
      },
      "source": [
        "# Predict decision time"
      ]
    },
    {
      "cell_type": "markdown",
      "metadata": {
        "id": "CKF6JVDSZOPq"
      },
      "source": [
        "## Load data and preprocess"
      ]
    },
    {
      "cell_type": "code",
      "metadata": {
        "id": "2tO-IgCQEOlM"
      },
      "source": [
        "import pandas as pd\n",
        "from sklearn.preprocessing import OneHotEncoder\n",
        "URL=r'https://raw.githubusercontent.com/rostro36/Vernehmlassungen/master/laws.csv'\n",
        "df=pd.read_csv(URL)"
      ],
      "execution_count": 1,
      "outputs": []
    },
    {
      "cell_type": "code",
      "metadata": {
        "colab": {
          "base_uri": "https://localhost:8080/",
          "height": 711
        },
        "id": "pZrDMFEyEmvV",
        "outputId": "837d3df3-71eb-47ec-9207-8fd1dd762cdc"
      },
      "source": [
        "df.head(100)"
      ],
      "execution_count": 2,
      "outputs": [
        {
          "output_type": "execute_result",
          "data": {
            "text/html": [
              "<div>\n",
              "<style scoped>\n",
              "    .dataframe tbody tr th:only-of-type {\n",
              "        vertical-align: middle;\n",
              "    }\n",
              "\n",
              "    .dataframe tbody tr th {\n",
              "        vertical-align: top;\n",
              "    }\n",
              "\n",
              "    .dataframe thead th {\n",
              "        text-align: right;\n",
              "    }\n",
              "</style>\n",
              "<table border=\"1\" class=\"dataframe\">\n",
              "  <thead>\n",
              "    <tr style=\"text-align: right;\">\n",
              "      <th></th>\n",
              "      <th>Unnamed: 0</th>\n",
              "      <th>index</th>\n",
              "      <th>Department</th>\n",
              "      <th>Title</th>\n",
              "      <th>Text</th>\n",
              "      <th>Vernehmlassung_Day</th>\n",
              "      <th>Vernehmlassung_Month</th>\n",
              "      <th>Vernehmlassung_Year</th>\n",
              "      <th>Behoerde</th>\n",
              "      <th>SR_Links</th>\n",
              "      <th>SR_Numbers</th>\n",
              "      <th>Link_count</th>\n",
              "      <th>index.1</th>\n",
              "      <th>Months_until_decision</th>\n",
              "      <th>Decision_day</th>\n",
              "      <th>Decision_month</th>\n",
              "      <th>Decision_year</th>\n",
              "      <th>Months_until_accept</th>\n",
              "      <th>Accept_day</th>\n",
              "      <th>Accept_month</th>\n",
              "      <th>Accept_year</th>\n",
              "    </tr>\n",
              "  </thead>\n",
              "  <tbody>\n",
              "    <tr>\n",
              "      <th>0</th>\n",
              "      <td>0</td>\n",
              "      <td>0</td>\n",
              "      <td>BK</td>\n",
              "      <td>Revision des Bundesgesetzes über die politisch...</td>\n",
              "      <td>NaN</td>\n",
              "      <td>28</td>\n",
              "      <td>2</td>\n",
              "      <td>1993</td>\n",
              "      <td>Bundesrat</td>\n",
              "      <td>NaN</td>\n",
              "      <td>NaN</td>\n",
              "      <td>NaN</td>\n",
              "      <td>0</td>\n",
              "      <td>NaN</td>\n",
              "      <td>NaN</td>\n",
              "      <td>NaN</td>\n",
              "      <td>NaN</td>\n",
              "      <td>NaN</td>\n",
              "      <td>NaN</td>\n",
              "      <td>NaN</td>\n",
              "      <td>NaN</td>\n",
              "    </tr>\n",
              "    <tr>\n",
              "      <th>1</th>\n",
              "      <td>1</td>\n",
              "      <td>1</td>\n",
              "      <td>EDA</td>\n",
              "      <td>Beitritt der Schweiz zum UNO-Übereinkommen übe...</td>\n",
              "      <td>NaN</td>\n",
              "      <td>15</td>\n",
              "      <td>12</td>\n",
              "      <td>1992</td>\n",
              "      <td>Bundesrat</td>\n",
              "      <td>NaN</td>\n",
              "      <td>NaN</td>\n",
              "      <td>NaN</td>\n",
              "      <td>1</td>\n",
              "      <td>NaN</td>\n",
              "      <td>NaN</td>\n",
              "      <td>NaN</td>\n",
              "      <td>NaN</td>\n",
              "      <td>NaN</td>\n",
              "      <td>NaN</td>\n",
              "      <td>NaN</td>\n",
              "      <td>NaN</td>\n",
              "    </tr>\n",
              "    <tr>\n",
              "      <th>2</th>\n",
              "      <td>2</td>\n",
              "      <td>2</td>\n",
              "      <td>EDI</td>\n",
              "      <td>Verordnung über den Wald (Waldverordnung)</td>\n",
              "      <td>NaN</td>\n",
              "      <td>16</td>\n",
              "      <td>3</td>\n",
              "      <td>1992</td>\n",
              "      <td>Bundesrat</td>\n",
              "      <td>NaN</td>\n",
              "      <td>NaN</td>\n",
              "      <td>NaN</td>\n",
              "      <td>2</td>\n",
              "      <td>NaN</td>\n",
              "      <td>NaN</td>\n",
              "      <td>NaN</td>\n",
              "      <td>NaN</td>\n",
              "      <td>NaN</td>\n",
              "      <td>NaN</td>\n",
              "      <td>NaN</td>\n",
              "      <td>NaN</td>\n",
              "    </tr>\n",
              "    <tr>\n",
              "      <th>3</th>\n",
              "      <td>3</td>\n",
              "      <td>3</td>\n",
              "      <td>EDI</td>\n",
              "      <td>Beitritt der Schweiz zu drei internationalen B...</td>\n",
              "      <td>NaN</td>\n",
              "      <td>15</td>\n",
              "      <td>6</td>\n",
              "      <td>1992</td>\n",
              "      <td>Bundesrat</td>\n",
              "      <td>NaN</td>\n",
              "      <td>NaN</td>\n",
              "      <td>NaN</td>\n",
              "      <td>3</td>\n",
              "      <td>NaN</td>\n",
              "      <td>NaN</td>\n",
              "      <td>NaN</td>\n",
              "      <td>NaN</td>\n",
              "      <td>NaN</td>\n",
              "      <td>NaN</td>\n",
              "      <td>NaN</td>\n",
              "      <td>NaN</td>\n",
              "    </tr>\n",
              "    <tr>\n",
              "      <th>4</th>\n",
              "      <td>4</td>\n",
              "      <td>4</td>\n",
              "      <td>EDI</td>\n",
              "      <td>Bundesbeschluss über befristete Massnahmen geg...</td>\n",
              "      <td>NaN</td>\n",
              "      <td>30</td>\n",
              "      <td>6</td>\n",
              "      <td>1992</td>\n",
              "      <td>Bundesrat</td>\n",
              "      <td>NaN</td>\n",
              "      <td>NaN</td>\n",
              "      <td>NaN</td>\n",
              "      <td>4</td>\n",
              "      <td>NaN</td>\n",
              "      <td>NaN</td>\n",
              "      <td>NaN</td>\n",
              "      <td>NaN</td>\n",
              "      <td>NaN</td>\n",
              "      <td>NaN</td>\n",
              "      <td>NaN</td>\n",
              "      <td>NaN</td>\n",
              "    </tr>\n",
              "    <tr>\n",
              "      <th>...</th>\n",
              "      <td>...</td>\n",
              "      <td>...</td>\n",
              "      <td>...</td>\n",
              "      <td>...</td>\n",
              "      <td>...</td>\n",
              "      <td>...</td>\n",
              "      <td>...</td>\n",
              "      <td>...</td>\n",
              "      <td>...</td>\n",
              "      <td>...</td>\n",
              "      <td>...</td>\n",
              "      <td>...</td>\n",
              "      <td>...</td>\n",
              "      <td>...</td>\n",
              "      <td>...</td>\n",
              "      <td>...</td>\n",
              "      <td>...</td>\n",
              "      <td>...</td>\n",
              "      <td>...</td>\n",
              "      <td>...</td>\n",
              "      <td>...</td>\n",
              "    </tr>\n",
              "    <tr>\n",
              "      <th>95</th>\n",
              "      <td>95</td>\n",
              "      <td>13</td>\n",
              "      <td>EFD</td>\n",
              "      <td>Verzinsung von Verrechnungssteuerguthaben (Var...</td>\n",
              "      <td>Es stehen zwei Varianten von Gesetzesentwürfen...</td>\n",
              "      <td>15</td>\n",
              "      <td>6</td>\n",
              "      <td>1995</td>\n",
              "      <td>Bundesrat</td>\n",
              "      <td>NaN</td>\n",
              "      <td>NaN</td>\n",
              "      <td>NaN</td>\n",
              "      <td>95</td>\n",
              "      <td>NaN</td>\n",
              "      <td>NaN</td>\n",
              "      <td>NaN</td>\n",
              "      <td>NaN</td>\n",
              "      <td>NaN</td>\n",
              "      <td>NaN</td>\n",
              "      <td>NaN</td>\n",
              "      <td>NaN</td>\n",
              "    </tr>\n",
              "    <tr>\n",
              "      <th>96</th>\n",
              "      <td>96</td>\n",
              "      <td>14</td>\n",
              "      <td>EFD</td>\n",
              "      <td>Bundesbeschluss über die Anordnung einer allge...</td>\n",
              "      <td>NaN</td>\n",
              "      <td>30</td>\n",
              "      <td>6</td>\n",
              "      <td>1995</td>\n",
              "      <td>Bundesrat</td>\n",
              "      <td>NaN</td>\n",
              "      <td>NaN</td>\n",
              "      <td>NaN</td>\n",
              "      <td>96</td>\n",
              "      <td>NaN</td>\n",
              "      <td>NaN</td>\n",
              "      <td>NaN</td>\n",
              "      <td>NaN</td>\n",
              "      <td>NaN</td>\n",
              "      <td>NaN</td>\n",
              "      <td>NaN</td>\n",
              "      <td>NaN</td>\n",
              "    </tr>\n",
              "    <tr>\n",
              "      <th>97</th>\n",
              "      <td>97</td>\n",
              "      <td>15</td>\n",
              "      <td>EFD</td>\n",
              "      <td>Verordnung über das öffentliche Beschaffungswesen</td>\n",
              "      <td>NaN</td>\n",
              "      <td>18</td>\n",
              "      <td>9</td>\n",
              "      <td>1995</td>\n",
              "      <td>Bundesrat</td>\n",
              "      <td>NaN</td>\n",
              "      <td>NaN</td>\n",
              "      <td>NaN</td>\n",
              "      <td>97</td>\n",
              "      <td>NaN</td>\n",
              "      <td>NaN</td>\n",
              "      <td>NaN</td>\n",
              "      <td>NaN</td>\n",
              "      <td>NaN</td>\n",
              "      <td>NaN</td>\n",
              "      <td>NaN</td>\n",
              "      <td>NaN</td>\n",
              "    </tr>\n",
              "    <tr>\n",
              "      <th>98</th>\n",
              "      <td>98</td>\n",
              "      <td>16</td>\n",
              "      <td>EFD</td>\n",
              "      <td>Finanzierung des öffentlichen Verkehrs</td>\n",
              "      <td>Der Bundesrat sieht vor, die drei Finanzierung...</td>\n",
              "      <td>15</td>\n",
              "      <td>11</td>\n",
              "      <td>1995</td>\n",
              "      <td>Bundesrat</td>\n",
              "      <td>NaN</td>\n",
              "      <td>NaN</td>\n",
              "      <td>NaN</td>\n",
              "      <td>98</td>\n",
              "      <td>NaN</td>\n",
              "      <td>NaN</td>\n",
              "      <td>NaN</td>\n",
              "      <td>NaN</td>\n",
              "      <td>NaN</td>\n",
              "      <td>NaN</td>\n",
              "      <td>NaN</td>\n",
              "      <td>NaN</td>\n",
              "    </tr>\n",
              "    <tr>\n",
              "      <th>99</th>\n",
              "      <td>99</td>\n",
              "      <td>17</td>\n",
              "      <td>EFD</td>\n",
              "      <td>Verordnung über die Börsen und den Effektenhandel</td>\n",
              "      <td>NaN</td>\n",
              "      <td>22</td>\n",
              "      <td>12</td>\n",
              "      <td>1995</td>\n",
              "      <td>Bundesrat</td>\n",
              "      <td>NaN</td>\n",
              "      <td>NaN</td>\n",
              "      <td>NaN</td>\n",
              "      <td>99</td>\n",
              "      <td>NaN</td>\n",
              "      <td>NaN</td>\n",
              "      <td>NaN</td>\n",
              "      <td>NaN</td>\n",
              "      <td>NaN</td>\n",
              "      <td>NaN</td>\n",
              "      <td>NaN</td>\n",
              "      <td>NaN</td>\n",
              "    </tr>\n",
              "  </tbody>\n",
              "</table>\n",
              "<p>100 rows × 21 columns</p>\n",
              "</div>"
            ],
            "text/plain": [
              "    Unnamed: 0  index Department  ... Accept_day Accept_month  Accept_year\n",
              "0            0      0         BK  ...        NaN          NaN          NaN\n",
              "1            1      1        EDA  ...        NaN          NaN          NaN\n",
              "2            2      2        EDI  ...        NaN          NaN          NaN\n",
              "3            3      3        EDI  ...        NaN          NaN          NaN\n",
              "4            4      4        EDI  ...        NaN          NaN          NaN\n",
              "..         ...    ...        ...  ...        ...          ...          ...\n",
              "95          95     13        EFD  ...        NaN          NaN          NaN\n",
              "96          96     14        EFD  ...        NaN          NaN          NaN\n",
              "97          97     15        EFD  ...        NaN          NaN          NaN\n",
              "98          98     16        EFD  ...        NaN          NaN          NaN\n",
              "99          99     17        EFD  ...        NaN          NaN          NaN\n",
              "\n",
              "[100 rows x 21 columns]"
            ]
          },
          "metadata": {},
          "execution_count": 2
        }
      ]
    },
    {
      "cell_type": "code",
      "metadata": {
        "colab": {
          "base_uri": "https://localhost:8080/",
          "height": 275
        },
        "id": "5Vtc1cKBMgpB",
        "outputId": "4a4954c7-e723-42f9-8a4d-4c15b52bf71e"
      },
      "source": [
        "df =df.dropna(subset=['SR_Links', 'Months_until_accept', 'Months_until_decision'])\n",
        "no_text = df.drop(columns=['Title','Text', 'Unnamed: 0', 'index', 'index.1', 'SR_Links', 'SR_Numbers', 'Months_until_accept', 'Accept_day', 'Accept_month','Accept_year']).reset_index()\n",
        "encoder = OneHotEncoder(sparse=False)\n",
        "encoded=encoder.fit_transform(no_text[['Behoerde', 'Department']])\n",
        "encoded = pd.DataFrame(encoded, columns=encoder.get_feature_names_out())\n",
        "no_text=no_text.drop(columns=['Behoerde', 'Department', 'index'])\n",
        "no_text=pd.concat([no_text, encoded], axis=1)\n",
        "no_text.tail()"
      ],
      "execution_count": 3,
      "outputs": [
        {
          "output_type": "execute_result",
          "data": {
            "text/html": [
              "<div>\n",
              "<style scoped>\n",
              "    .dataframe tbody tr th:only-of-type {\n",
              "        vertical-align: middle;\n",
              "    }\n",
              "\n",
              "    .dataframe tbody tr th {\n",
              "        vertical-align: top;\n",
              "    }\n",
              "\n",
              "    .dataframe thead th {\n",
              "        text-align: right;\n",
              "    }\n",
              "</style>\n",
              "<table border=\"1\" class=\"dataframe\">\n",
              "  <thead>\n",
              "    <tr style=\"text-align: right;\">\n",
              "      <th></th>\n",
              "      <th>Vernehmlassung_Day</th>\n",
              "      <th>Vernehmlassung_Month</th>\n",
              "      <th>Vernehmlassung_Year</th>\n",
              "      <th>Link_count</th>\n",
              "      <th>Months_until_decision</th>\n",
              "      <th>Decision_day</th>\n",
              "      <th>Decision_month</th>\n",
              "      <th>Decision_year</th>\n",
              "      <th>Behoerde_Behördenkommission</th>\n",
              "      <th>Behoerde_Bundesrat</th>\n",
              "      <th>Behoerde_Bundesversammlung</th>\n",
              "      <th>Behoerde_Departement oder Bundeskanzlei</th>\n",
              "      <th>Behoerde_Einheit der zentralen oder dezentralen Bundesverwaltung</th>\n",
              "      <th>Behoerde_Parlamentarische Kommissionen</th>\n",
              "      <th>Department_BK</th>\n",
              "      <th>Department_EDA</th>\n",
              "      <th>Department_EDI</th>\n",
              "      <th>Department_EFD</th>\n",
              "      <th>Department_EJPD</th>\n",
              "      <th>Department_EVD</th>\n",
              "      <th>Department_Parl.</th>\n",
              "      <th>Department_UVEK</th>\n",
              "      <th>Department_VBS</th>\n",
              "      <th>Department_WBF</th>\n",
              "      <th>Department_other</th>\n",
              "    </tr>\n",
              "  </thead>\n",
              "  <tbody>\n",
              "    <tr>\n",
              "      <th>937</th>\n",
              "      <td>6</td>\n",
              "      <td>7</td>\n",
              "      <td>2015</td>\n",
              "      <td>2.0</td>\n",
              "      <td>15.066667</td>\n",
              "      <td>30.0</td>\n",
              "      <td>9.0</td>\n",
              "      <td>2016.0</td>\n",
              "      <td>0.0</td>\n",
              "      <td>0.0</td>\n",
              "      <td>1.0</td>\n",
              "      <td>0.0</td>\n",
              "      <td>0.0</td>\n",
              "      <td>0.0</td>\n",
              "      <td>0.0</td>\n",
              "      <td>0.0</td>\n",
              "      <td>0.0</td>\n",
              "      <td>0.0</td>\n",
              "      <td>0.0</td>\n",
              "      <td>0.0</td>\n",
              "      <td>1.0</td>\n",
              "      <td>0.0</td>\n",
              "      <td>0.0</td>\n",
              "      <td>0.0</td>\n",
              "      <td>0.0</td>\n",
              "    </tr>\n",
              "    <tr>\n",
              "      <th>938</th>\n",
              "      <td>14</td>\n",
              "      <td>8</td>\n",
              "      <td>2015</td>\n",
              "      <td>1.0</td>\n",
              "      <td>10.266667</td>\n",
              "      <td>17.0</td>\n",
              "      <td>6.0</td>\n",
              "      <td>2016.0</td>\n",
              "      <td>0.0</td>\n",
              "      <td>0.0</td>\n",
              "      <td>1.0</td>\n",
              "      <td>0.0</td>\n",
              "      <td>0.0</td>\n",
              "      <td>0.0</td>\n",
              "      <td>0.0</td>\n",
              "      <td>0.0</td>\n",
              "      <td>0.0</td>\n",
              "      <td>0.0</td>\n",
              "      <td>0.0</td>\n",
              "      <td>0.0</td>\n",
              "      <td>1.0</td>\n",
              "      <td>0.0</td>\n",
              "      <td>0.0</td>\n",
              "      <td>0.0</td>\n",
              "      <td>0.0</td>\n",
              "    </tr>\n",
              "    <tr>\n",
              "      <th>939</th>\n",
              "      <td>18</td>\n",
              "      <td>12</td>\n",
              "      <td>2015</td>\n",
              "      <td>1.0</td>\n",
              "      <td>6.066667</td>\n",
              "      <td>17.0</td>\n",
              "      <td>6.0</td>\n",
              "      <td>2016.0</td>\n",
              "      <td>0.0</td>\n",
              "      <td>0.0</td>\n",
              "      <td>1.0</td>\n",
              "      <td>0.0</td>\n",
              "      <td>0.0</td>\n",
              "      <td>0.0</td>\n",
              "      <td>0.0</td>\n",
              "      <td>0.0</td>\n",
              "      <td>0.0</td>\n",
              "      <td>0.0</td>\n",
              "      <td>0.0</td>\n",
              "      <td>0.0</td>\n",
              "      <td>1.0</td>\n",
              "      <td>0.0</td>\n",
              "      <td>0.0</td>\n",
              "      <td>0.0</td>\n",
              "      <td>0.0</td>\n",
              "    </tr>\n",
              "    <tr>\n",
              "      <th>940</th>\n",
              "      <td>15</td>\n",
              "      <td>3</td>\n",
              "      <td>2016</td>\n",
              "      <td>1.0</td>\n",
              "      <td>3.133333</td>\n",
              "      <td>17.0</td>\n",
              "      <td>6.0</td>\n",
              "      <td>2016.0</td>\n",
              "      <td>0.0</td>\n",
              "      <td>0.0</td>\n",
              "      <td>1.0</td>\n",
              "      <td>0.0</td>\n",
              "      <td>0.0</td>\n",
              "      <td>0.0</td>\n",
              "      <td>0.0</td>\n",
              "      <td>0.0</td>\n",
              "      <td>0.0</td>\n",
              "      <td>0.0</td>\n",
              "      <td>0.0</td>\n",
              "      <td>0.0</td>\n",
              "      <td>1.0</td>\n",
              "      <td>0.0</td>\n",
              "      <td>0.0</td>\n",
              "      <td>0.0</td>\n",
              "      <td>0.0</td>\n",
              "    </tr>\n",
              "    <tr>\n",
              "      <th>941</th>\n",
              "      <td>21</td>\n",
              "      <td>3</td>\n",
              "      <td>2016</td>\n",
              "      <td>1.0</td>\n",
              "      <td>12.033333</td>\n",
              "      <td>17.0</td>\n",
              "      <td>3.0</td>\n",
              "      <td>2017.0</td>\n",
              "      <td>0.0</td>\n",
              "      <td>0.0</td>\n",
              "      <td>1.0</td>\n",
              "      <td>0.0</td>\n",
              "      <td>0.0</td>\n",
              "      <td>0.0</td>\n",
              "      <td>0.0</td>\n",
              "      <td>0.0</td>\n",
              "      <td>0.0</td>\n",
              "      <td>0.0</td>\n",
              "      <td>0.0</td>\n",
              "      <td>0.0</td>\n",
              "      <td>1.0</td>\n",
              "      <td>0.0</td>\n",
              "      <td>0.0</td>\n",
              "      <td>0.0</td>\n",
              "      <td>0.0</td>\n",
              "    </tr>\n",
              "  </tbody>\n",
              "</table>\n",
              "</div>"
            ],
            "text/plain": [
              "     Vernehmlassung_Day  Vernehmlassung_Month  ...  Department_WBF  Department_other\n",
              "937                   6                     7  ...             0.0               0.0\n",
              "938                  14                     8  ...             0.0               0.0\n",
              "939                  18                    12  ...             0.0               0.0\n",
              "940                  15                     3  ...             0.0               0.0\n",
              "941                  21                     3  ...             0.0               0.0\n",
              "\n",
              "[5 rows x 25 columns]"
            ]
          },
          "metadata": {},
          "execution_count": 3
        }
      ]
    },
    {
      "cell_type": "markdown",
      "metadata": {
        "id": "MUQ5kjiH5qvs"
      },
      "source": [
        "## Overfitting test\n",
        "Check if everything works by already giving the decision data, which we want to predict."
      ]
    },
    {
      "cell_type": "code",
      "metadata": {
        "colab": {
          "base_uri": "https://localhost:8080/"
        },
        "id": "hzZ_HJaATNIy",
        "outputId": "7f0dd93d-dde3-4231-bc10-acdc7ba44835"
      },
      "source": [
        "from sklearn.model_selection import train_test_split\n",
        "from sklearn.svm import SVR\n",
        "from sklearn.model_selection import GridSearchCV\n",
        "from sklearn.metrics import mean_squared_error\n",
        "from tensorflow import keras\n",
        "import tensorflow as tf\n",
        "\n",
        "\n",
        "targets= no_text['Months_until_decision']\n",
        "features = no_text.drop(columns=['Months_until_decision'])\n",
        "features_training, features_test, targets_training, targets_test = train_test_split(features, targets, test_size=0.2, random_state=42)\n",
        "\n",
        "parameters = {'kernel':('linear', 'poly', 'rbf', 'sigmoid'), 'C':[0.1, 1, 10]}\n",
        "clf = GridSearchCV(SVR(), parameters, n_jobs=-1, cv=5, verbose=3, scoring='neg_mean_squared_error')\n",
        "clf.fit(features_training, targets_training)\n",
        "predicted_test = clf.predict(features_test)\n",
        "print(mean_squared_error(targets_test, predicted_test))"
      ],
      "execution_count": 4,
      "outputs": [
        {
          "output_type": "stream",
          "name": "stdout",
          "text": [
            "Fitting 5 folds for each of 12 candidates, totalling 60 fits\n",
            "0.0025745685565871463\n"
          ]
        }
      ]
    },
    {
      "cell_type": "code",
      "metadata": {
        "colab": {
          "base_uri": "https://localhost:8080/"
        },
        "id": "gfw8-g5Zzunr",
        "outputId": "b85a20f6-33dc-43ef-b02b-d5ab065c1ef5"
      },
      "source": [
        "tf.random.set_seed(12)\n",
        "model=keras.Sequential([keras.layers.Dense(10, activation='ReLU', input_shape=(24,)), keras.layers.Dropout(0.1), keras.layers.Dense(1, activation='ReLU')])\n",
        "model.build()\n",
        "model.compile(optimizer=tf.optimizers.Adam(learning_rate=0.001), loss='mean_squared_error')\n",
        "model.fit(features_training, targets_training, batch_size=1, epochs=10)\n",
        "predicted_test=model.predict(features_test)\n",
        "print(mean_squared_error(targets_test, predicted_test))"
      ],
      "execution_count": 5,
      "outputs": [
        {
          "output_type": "stream",
          "name": "stdout",
          "text": [
            "Epoch 1/10\n",
            "753/753 [==============================] - 1s 1ms/step - loss: 3020.0120\n",
            "Epoch 2/10\n",
            "753/753 [==============================] - 1s 1ms/step - loss: 861.7921\n",
            "Epoch 3/10\n",
            "753/753 [==============================] - 1s 1ms/step - loss: 811.4070\n",
            "Epoch 4/10\n",
            "753/753 [==============================] - 1s 1ms/step - loss: 789.0361\n",
            "Epoch 5/10\n",
            "753/753 [==============================] - 1s 1ms/step - loss: 800.3144\n",
            "Epoch 6/10\n",
            "753/753 [==============================] - 1s 1ms/step - loss: 778.1859\n",
            "Epoch 7/10\n",
            "753/753 [==============================] - 1s 1ms/step - loss: 754.3280\n",
            "Epoch 8/10\n",
            "753/753 [==============================] - 1s 1ms/step - loss: 763.6611\n",
            "Epoch 9/10\n",
            "753/753 [==============================] - 1s 1ms/step - loss: 764.7327\n",
            "Epoch 10/10\n",
            "753/753 [==============================] - 1s 1ms/step - loss: 733.4865\n",
            "965.7047648303027\n"
          ]
        }
      ]
    },
    {
      "cell_type": "markdown",
      "metadata": {
        "id": "_KsDGtN956Vl"
      },
      "source": [
        "## Not overfitting\n",
        "Excluding the exact decision date."
      ]
    },
    {
      "cell_type": "markdown",
      "metadata": {
        "id": "PlOYLjeVZ4kV"
      },
      "source": [
        "### SVM"
      ]
    },
    {
      "cell_type": "code",
      "metadata": {
        "colab": {
          "base_uri": "https://localhost:8080/"
        },
        "id": "8E7zMv6B55jM",
        "outputId": "5fbdb1f7-04a5-41c5-941a-90494e14ae75"
      },
      "source": [
        "from sklearn.tree import DecisionTreeRegressor\n",
        "from sklearn.neighbors import KNeighborsRegressor\n",
        "from sklearn.ensemble import RandomForestRegressor, GradientBoostingRegressor\n",
        "\n",
        "targets= no_text['Months_until_decision']\n",
        "features = no_text.drop(columns=['Months_until_decision', 'Decision_day', 'Decision_month', 'Decision_year'])\n",
        "features_training, features_test, targets_training, targets_test = train_test_split(features, targets, test_size=0.2, random_state=42)\n",
        "\n",
        "parameters = {'kernel':('linear', 'poly', 'rbf', 'sigmoid'), 'C':[0.1, 1, 10]}\n",
        "clf = GridSearchCV(SVR(), parameters, n_jobs=-1, cv=5, verbose=3)\n",
        "clf.fit(features_training, targets_training)\n",
        "print('SVM')\n",
        "print(clf.best_params_)\n",
        "predicted_test = clf.predict(features_test)\n",
        "print(mean_squared_error(predicted_test,targets_test))"
      ],
      "execution_count": 6,
      "outputs": [
        {
          "output_type": "stream",
          "name": "stdout",
          "text": [
            "Fitting 5 folds for each of 12 candidates, totalling 60 fits\n",
            "SVM\n",
            "{'C': 10, 'kernel': 'linear'}\n",
            "1349.3433860982645\n"
          ]
        }
      ]
    },
    {
      "cell_type": "markdown",
      "metadata": {
        "id": "5IfBu3_BZ-9B"
      },
      "source": [
        "### Decision tree"
      ]
    },
    {
      "cell_type": "code",
      "metadata": {
        "colab": {
          "base_uri": "https://localhost:8080/"
        },
        "id": "Puo0Xy1taB57",
        "outputId": "8fa0f241-2f94-45ab-a6fb-4ba2598db1cb"
      },
      "source": [
        "parameters = {'max_depth':(3, 6, 12, 25, None), 'min_samples_leaf':[1,3,7]}\n",
        "clf = GridSearchCV(DecisionTreeRegressor(random_state=12), parameters, n_jobs=-1, cv=5, verbose=3)\n",
        "clf.fit(features_training, targets_training)\n",
        "print('Tree')\n",
        "print(clf.best_params_)\n",
        "predicted_test = clf.predict(features_test)\n",
        "print(mean_squared_error(predicted_test,targets_test))"
      ],
      "execution_count": 7,
      "outputs": [
        {
          "output_type": "stream",
          "name": "stdout",
          "text": [
            "Fitting 5 folds for each of 15 candidates, totalling 75 fits\n",
            "Tree\n",
            "{'max_depth': 3, 'min_samples_leaf': 7}\n",
            "1184.0546846776547\n"
          ]
        }
      ]
    },
    {
      "cell_type": "markdown",
      "metadata": {
        "id": "bmZIHThPaunj"
      },
      "source": [
        "### Nearest Neighbour"
      ]
    },
    {
      "cell_type": "code",
      "metadata": {
        "colab": {
          "base_uri": "https://localhost:8080/"
        },
        "id": "S_bgDzyyZ-VV",
        "outputId": "1cd376cf-d85a-4098-ae02-3c1f9160a3ac"
      },
      "source": [
        "parameters = {'n_neighbors':(3, 5, 7, 11), 'weights':['uniform', 'distance']}\n",
        "clf = GridSearchCV(KNeighborsRegressor(), parameters, n_jobs=-1, cv=5, verbose=4)\n",
        "clf.fit(features_training, targets_training)\n",
        "print('Nearest Neighbour')\n",
        "print(clf.best_params_)\n",
        "predicted_test = clf.predict(features_test)\n",
        "print(mean_squared_error(predicted_test,targets_test))"
      ],
      "execution_count": 8,
      "outputs": [
        {
          "output_type": "stream",
          "name": "stdout",
          "text": [
            "Fitting 5 folds for each of 8 candidates, totalling 40 fits\n",
            "Nearest Neighbour\n",
            "{'n_neighbors': 11, 'weights': 'uniform'}\n",
            "1223.551544837504\n",
            "Fitting 5 folds for each of 45 candidates, totalling 225 fits\n",
            "Random Forest\n",
            "{'max_depth': 3, 'min_samples_leaf': 3, 'n_estimators': 100}\n",
            "1117.5959260251711\n",
            "Fitting 5 folds for each of 180 candidates, totalling 900 fits\n",
            "Boosting\n",
            "{'learning_rate': 0.1, 'max_depth': 3, 'min_samples_leaf': 1, 'n_estimators': 10}\n",
            "1146.7757638073708\n"
          ]
        }
      ]
    },
    {
      "cell_type": "markdown",
      "metadata": {
        "id": "ryP_A1acaytY"
      },
      "source": [
        "### Random Forest"
      ]
    },
    {
      "cell_type": "code",
      "metadata": {
        "colab": {
          "base_uri": "https://localhost:8080/"
        },
        "id": "z-AOgIAwazN6",
        "outputId": "3fd688a8-60ac-4341-f317-a8981340437d"
      },
      "source": [
        "parameters = {'n_estimators':(10, 50, 100), 'max_depth':(3, 6, 12, 25, None), 'min_samples_leaf':[1,3,7]}\n",
        "clf = GridSearchCV(RandomForestRegressor(random_state=12), parameters, n_jobs=-1, cv=5, verbose=4)\n",
        "clf.fit(features_training, targets_training)\n",
        "print('Random Forest')\n",
        "print(clf.best_params_)\n",
        "predicted_test = clf.predict(features_test)\n",
        "print(mean_squared_error(predicted_test,targets_test))"
      ],
      "execution_count": 9,
      "outputs": [
        {
          "output_type": "stream",
          "name": "stdout",
          "text": [
            "Fitting 5 folds for each of 45 candidates, totalling 225 fits\n",
            "Random Forest\n",
            "{'max_depth': 3, 'min_samples_leaf': 3, 'n_estimators': 100}\n",
            "1117.5959260251711\n"
          ]
        }
      ]
    },
    {
      "cell_type": "markdown",
      "metadata": {
        "id": "32z6s1o0a5X7"
      },
      "source": [
        "### Gradient Boosting"
      ]
    },
    {
      "cell_type": "code",
      "metadata": {
        "colab": {
          "base_uri": "https://localhost:8080/"
        },
        "id": "SeSo4Kuea5fg",
        "outputId": "b2b680f1-942e-48c7-af96-2b7522225595"
      },
      "source": [
        "parameters = {'learning_rate':(0.001, 0.01, 0.1, 0.4), 'n_estimators':(10, 50, 100), 'max_depth':(3, 6, 12, 25, None), 'min_samples_leaf':[1,3,7]}\n",
        "clf = GridSearchCV(GradientBoostingRegressor(random_state=12), parameters, n_jobs=-1, cv=5, verbose=4)\n",
        "clf.fit(features_training, targets_training)\n",
        "print('Boosting')\n",
        "print(clf.best_params_)\n",
        "predicted_test = clf.predict(features_test)\n",
        "print(mean_squared_error(predicted_test,targets_test))"
      ],
      "execution_count": 10,
      "outputs": [
        {
          "output_type": "stream",
          "name": "stdout",
          "text": [
            "Fitting 5 folds for each of 180 candidates, totalling 900 fits\n",
            "Boosting\n",
            "{'learning_rate': 0.1, 'max_depth': 3, 'min_samples_leaf': 1, 'n_estimators': 10}\n",
            "1146.7757638073708\n"
          ]
        }
      ]
    }
  ]
}